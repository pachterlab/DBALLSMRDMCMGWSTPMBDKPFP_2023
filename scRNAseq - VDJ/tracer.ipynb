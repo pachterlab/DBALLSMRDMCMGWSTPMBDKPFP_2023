{
 "cells": [
  {
   "cell_type": "code",
   "execution_count": 2,
   "id": "151851a5-47c7-44f0-b5cc-d048ed84ad04",
   "metadata": {},
   "outputs": [],
   "source": [
    "# !conda activate tracer\n",
    "# !export IGDATA=/home/laura/projects/ncbi-igblast-1.21.0/bin"
   ]
  },
  {
   "cell_type": "markdown",
   "id": "610f8572-3cd3-4636-bb29-e808d0c4dcac",
   "metadata": {},
   "source": [
    "Try PB library B -> donor 388 day 14  \n",
    "Try PB library P -> donor 388 day 28"
   ]
  },
  {
   "cell_type": "markdown",
   "id": "3638408a-c4ab-4bac-bec0-85617f3bd2d3",
   "metadata": {},
   "source": [
    "### Identify barcodes of interest"
   ]
  },
  {
   "cell_type": "code",
   "execution_count": 3,
   "id": "edb9e045-9829-481a-aa08-6ac35a172329",
   "metadata": {},
   "outputs": [],
   "source": [
    "import anndata"
   ]
  },
  {
   "cell_type": "code",
   "execution_count": 4,
   "id": "4fad0fac-76d4-496e-93ab-09c1cddfe9f1",
   "metadata": {},
   "outputs": [
    {
     "data": {
      "text/plain": [
       "AnnData object with n_obs × n_vars = 113477 × 17549\n",
       "    obs: 'species', 'tissue', 'library_id', 'sample', 'n_genes', 'cell_barcode', 'donor', 'batch_index', 'timepoint'\n",
       "    var: 'gene_name', 'n_cells', 'highly_variable', 'means', 'dispersions', 'dispersions_norm'\n",
       "    uns: 'hvg', 'log1p'\n",
       "    layers: 'spliced', 'unspliced'"
      ]
     },
     "execution_count": 4,
     "metadata": {},
     "output_type": "execute_result"
    }
   ],
   "source": [
    "vdj_adata = anndata.read(f\"/home/laura/projects/COH_data/alignment_v2/VDJ/all_norm.h5ad\")\n",
    "vdj_adata"
   ]
  },
  {
   "cell_type": "markdown",
   "id": "a669c129-1957-415b-b060-7dcabb46b0f8",
   "metadata": {},
   "source": [
    "Only keep filtered barcodes from donor 388, day 14 library B:"
   ]
  },
  {
   "cell_type": "code",
   "execution_count": 19,
   "id": "03ca59b0-5b14-403b-ba85-6799384ec111",
   "metadata": {},
   "outputs": [
    {
     "data": {
      "text/html": [
       "<div>\n",
       "<style scoped>\n",
       "    .dataframe tbody tr th:only-of-type {\n",
       "        vertical-align: middle;\n",
       "    }\n",
       "\n",
       "    .dataframe tbody tr th {\n",
       "        vertical-align: top;\n",
       "    }\n",
       "\n",
       "    .dataframe thead th {\n",
       "        text-align: right;\n",
       "    }\n",
       "</style>\n",
       "<table border=\"1\" class=\"dataframe\">\n",
       "  <thead>\n",
       "    <tr style=\"text-align: right;\">\n",
       "      <th></th>\n",
       "      <th>species</th>\n",
       "      <th>tissue</th>\n",
       "      <th>library_id</th>\n",
       "      <th>sample</th>\n",
       "      <th>n_genes</th>\n",
       "      <th>cell_barcode</th>\n",
       "      <th>donor</th>\n",
       "      <th>batch_index</th>\n",
       "      <th>timepoint</th>\n",
       "    </tr>\n",
       "    <tr>\n",
       "      <th>barcode</th>\n",
       "      <th></th>\n",
       "      <th></th>\n",
       "      <th></th>\n",
       "      <th></th>\n",
       "      <th></th>\n",
       "      <th></th>\n",
       "      <th></th>\n",
       "      <th></th>\n",
       "      <th></th>\n",
       "    </tr>\n",
       "  </thead>\n",
       "  <tbody>\n",
       "    <tr>\n",
       "      <th>AAACCTGGTCAATACC-1</th>\n",
       "      <td>homo_sapiens</td>\n",
       "      <td>PB</td>\n",
       "      <td>SE6453_SA71968</td>\n",
       "      <td>B</td>\n",
       "      <td>498</td>\n",
       "      <td>AAACCTGGTCAATACC</td>\n",
       "      <td>388</td>\n",
       "      <td>1</td>\n",
       "      <td>14</td>\n",
       "    </tr>\n",
       "    <tr>\n",
       "      <th>AAAGCAAAGCCACGCT-1</th>\n",
       "      <td>homo_sapiens</td>\n",
       "      <td>PB</td>\n",
       "      <td>SE6453_SA71968</td>\n",
       "      <td>B</td>\n",
       "      <td>17</td>\n",
       "      <td>AAAGCAAAGCCACGCT</td>\n",
       "      <td>388</td>\n",
       "      <td>1</td>\n",
       "      <td>14</td>\n",
       "    </tr>\n",
       "    <tr>\n",
       "      <th>AAAGCAATCATCTGTT-1</th>\n",
       "      <td>homo_sapiens</td>\n",
       "      <td>PB</td>\n",
       "      <td>SE6453_SA71968</td>\n",
       "      <td>B</td>\n",
       "      <td>33</td>\n",
       "      <td>AAAGCAATCATCTGTT</td>\n",
       "      <td>388</td>\n",
       "      <td>1</td>\n",
       "      <td>14</td>\n",
       "    </tr>\n",
       "    <tr>\n",
       "      <th>AAAGCAATCGCAGGCT-1</th>\n",
       "      <td>homo_sapiens</td>\n",
       "      <td>PB</td>\n",
       "      <td>SE6453_SA71968</td>\n",
       "      <td>B</td>\n",
       "      <td>19</td>\n",
       "      <td>AAAGCAATCGCAGGCT</td>\n",
       "      <td>388</td>\n",
       "      <td>1</td>\n",
       "      <td>14</td>\n",
       "    </tr>\n",
       "    <tr>\n",
       "      <th>AAAGTAGGTGATGTCT-1</th>\n",
       "      <td>homo_sapiens</td>\n",
       "      <td>PB</td>\n",
       "      <td>SE6453_SA71968</td>\n",
       "      <td>B</td>\n",
       "      <td>19</td>\n",
       "      <td>AAAGTAGGTGATGTCT</td>\n",
       "      <td>388</td>\n",
       "      <td>1</td>\n",
       "      <td>14</td>\n",
       "    </tr>\n",
       "    <tr>\n",
       "      <th>...</th>\n",
       "      <td>...</td>\n",
       "      <td>...</td>\n",
       "      <td>...</td>\n",
       "      <td>...</td>\n",
       "      <td>...</td>\n",
       "      <td>...</td>\n",
       "      <td>...</td>\n",
       "      <td>...</td>\n",
       "      <td>...</td>\n",
       "    </tr>\n",
       "    <tr>\n",
       "      <th>TTTGCGCTCTGGCGAC-1</th>\n",
       "      <td>homo_sapiens</td>\n",
       "      <td>PB</td>\n",
       "      <td>SE6453_SA71968</td>\n",
       "      <td>B</td>\n",
       "      <td>32</td>\n",
       "      <td>TTTGCGCTCTGGCGAC</td>\n",
       "      <td>388</td>\n",
       "      <td>1</td>\n",
       "      <td>14</td>\n",
       "    </tr>\n",
       "    <tr>\n",
       "      <th>TTTGGTTAGAGGGCTT-1</th>\n",
       "      <td>homo_sapiens</td>\n",
       "      <td>PB</td>\n",
       "      <td>SE6453_SA71968</td>\n",
       "      <td>B</td>\n",
       "      <td>34</td>\n",
       "      <td>TTTGGTTAGAGGGCTT</td>\n",
       "      <td>388</td>\n",
       "      <td>1</td>\n",
       "      <td>14</td>\n",
       "    </tr>\n",
       "    <tr>\n",
       "      <th>TTTGGTTTCCACGTGG-1</th>\n",
       "      <td>homo_sapiens</td>\n",
       "      <td>PB</td>\n",
       "      <td>SE6453_SA71968</td>\n",
       "      <td>B</td>\n",
       "      <td>21</td>\n",
       "      <td>TTTGGTTTCCACGTGG</td>\n",
       "      <td>388</td>\n",
       "      <td>1</td>\n",
       "      <td>14</td>\n",
       "    </tr>\n",
       "    <tr>\n",
       "      <th>TTTGTCAGTCAGAATA-1</th>\n",
       "      <td>homo_sapiens</td>\n",
       "      <td>PB</td>\n",
       "      <td>SE6453_SA71968</td>\n",
       "      <td>B</td>\n",
       "      <td>24</td>\n",
       "      <td>TTTGTCAGTCAGAATA</td>\n",
       "      <td>388</td>\n",
       "      <td>1</td>\n",
       "      <td>14</td>\n",
       "    </tr>\n",
       "    <tr>\n",
       "      <th>TTTGTCAGTGATAAGT-1</th>\n",
       "      <td>homo_sapiens</td>\n",
       "      <td>PB</td>\n",
       "      <td>SE6453_SA71968</td>\n",
       "      <td>B</td>\n",
       "      <td>33</td>\n",
       "      <td>TTTGTCAGTGATAAGT</td>\n",
       "      <td>388</td>\n",
       "      <td>1</td>\n",
       "      <td>14</td>\n",
       "    </tr>\n",
       "  </tbody>\n",
       "</table>\n",
       "<p>660 rows × 9 columns</p>\n",
       "</div>"
      ],
      "text/plain": [
       "                         species tissue      library_id sample  n_genes  \\\n",
       "barcode                                                                   \n",
       "AAACCTGGTCAATACC-1  homo_sapiens     PB  SE6453_SA71968      B      498   \n",
       "AAAGCAAAGCCACGCT-1  homo_sapiens     PB  SE6453_SA71968      B       17   \n",
       "AAAGCAATCATCTGTT-1  homo_sapiens     PB  SE6453_SA71968      B       33   \n",
       "AAAGCAATCGCAGGCT-1  homo_sapiens     PB  SE6453_SA71968      B       19   \n",
       "AAAGTAGGTGATGTCT-1  homo_sapiens     PB  SE6453_SA71968      B       19   \n",
       "...                          ...    ...             ...    ...      ...   \n",
       "TTTGCGCTCTGGCGAC-1  homo_sapiens     PB  SE6453_SA71968      B       32   \n",
       "TTTGGTTAGAGGGCTT-1  homo_sapiens     PB  SE6453_SA71968      B       34   \n",
       "TTTGGTTTCCACGTGG-1  homo_sapiens     PB  SE6453_SA71968      B       21   \n",
       "TTTGTCAGTCAGAATA-1  homo_sapiens     PB  SE6453_SA71968      B       24   \n",
       "TTTGTCAGTGATAAGT-1  homo_sapiens     PB  SE6453_SA71968      B       33   \n",
       "\n",
       "                        cell_barcode donor batch_index timepoint  \n",
       "barcode                                                           \n",
       "AAACCTGGTCAATACC-1  AAACCTGGTCAATACC   388           1        14  \n",
       "AAAGCAAAGCCACGCT-1  AAAGCAAAGCCACGCT   388           1        14  \n",
       "AAAGCAATCATCTGTT-1  AAAGCAATCATCTGTT   388           1        14  \n",
       "AAAGCAATCGCAGGCT-1  AAAGCAATCGCAGGCT   388           1        14  \n",
       "AAAGTAGGTGATGTCT-1  AAAGTAGGTGATGTCT   388           1        14  \n",
       "...                              ...   ...         ...       ...  \n",
       "TTTGCGCTCTGGCGAC-1  TTTGCGCTCTGGCGAC   388           1        14  \n",
       "TTTGGTTAGAGGGCTT-1  TTTGGTTAGAGGGCTT   388           1        14  \n",
       "TTTGGTTTCCACGTGG-1  TTTGGTTTCCACGTGG   388           1        14  \n",
       "TTTGTCAGTCAGAATA-1  TTTGTCAGTCAGAATA   388           1        14  \n",
       "TTTGTCAGTGATAAGT-1  TTTGTCAGTGATAAGT   388           1        14  \n",
       "\n",
       "[660 rows x 9 columns]"
      ]
     },
     "execution_count": 19,
     "metadata": {},
     "output_type": "execute_result"
    }
   ],
   "source": [
    "vdj_adata.obs[(vdj_adata.obs[\"donor\"] == \"388\") & (vdj_adata.obs[\"timepoint\"] == \"14\") & (vdj_adata.obs[\"sample\"] == \"B\")]"
   ]
  },
  {
   "cell_type": "code",
   "execution_count": 14,
   "id": "2bc4b4db-92da-49c1-9057-b264f1fb17f2",
   "metadata": {},
   "outputs": [],
   "source": [
    "barcodes_to_keep = [barcode.split(\"-\")[0] for barcode in vdj_adata.obs[(vdj_adata.obs[\"donor\"] == \"388\") & (vdj_adata.obs[\"timepoint\"] == \"14\") & (vdj_adata.obs[\"sample\"] == \"B\")].index.values]"
   ]
  },
  {
   "cell_type": "code",
   "execution_count": 24,
   "id": "fc13d7fd-1d0b-409a-a091-d575506d5890",
   "metadata": {},
   "outputs": [],
   "source": [
    "keep_txt = \"/home/laura/projects/COH_data/alignment_v2/raw/VDJ_tracer/PB_B_388_d14_keep.txt\""
   ]
  },
  {
   "cell_type": "code",
   "execution_count": 25,
   "id": "f249e1d6-a648-4aab-82fc-5bf5918ce8ad",
   "metadata": {},
   "outputs": [],
   "source": [
    "with open(keep_txt, \"w\") as keep_file:\n",
    "    for bc in barcodes_to_keep:\n",
    "        keep_file.write(bc + \"\\t\" + bc + \"\\n\")"
   ]
  },
  {
   "cell_type": "code",
   "execution_count": 20,
   "id": "1e0f9f70-9d80-4db6-8fa8-4c361b072253",
   "metadata": {},
   "outputs": [],
   "source": [
    "config_txt = \"/home/laura/projects/COH_data/alignment_v2/raw/VDJ_tracer/PB_B_388_d14_config.txt\""
   ]
  },
  {
   "cell_type": "code",
   "execution_count": 21,
   "id": "c229dcc5-3d65-419e-9150-a22cdd823926",
   "metadata": {},
   "outputs": [],
   "source": [
    "with open(config_txt, \"w\") as config_file:\n",
    "    config_file.write(\"tags\\tlocations\\n\")\n",
    "    for bc in barcodes_to_keep:\n",
    "        config_file.write(bc + \"\\t0:0:16\\n\")"
   ]
  },
  {
   "cell_type": "markdown",
   "id": "69b0625c-b359-418d-a067-2cd9d6405059",
   "metadata": {},
   "source": [
    "### Separate each cell of interest into a separate fastq"
   ]
  },
  {
   "cell_type": "code",
   "execution_count": 26,
   "id": "1e22fd9e-73ed-4292-ab6c-136d7941815e",
   "metadata": {},
   "outputs": [],
   "source": [
    "# Original fastq files\n",
    "b_fastq1 = \"/home/laura/projects/COH_data/alignment_v2/raw/VDJ/FT-SE6453/FT-SA71968-FT-SPN01104_HC75HCCX2/SE6453_SA71968_S2_L008_R1_001.fastq.gz\"\n",
    "b_fastq2 = \"/home/laura/projects/COH_data/alignment_v2/raw/VDJ/FT-SE6453/FT-SA71968-FT-SPN01104_HC75HCCX2/SE6453_SA71968_S2_L008_R2_001.fastq.gz\"\n",
    "\n",
    "# p_fastq1 = \"/home/laura/projects/COH_data/alignment_v2/raw/VDJ/SE8002/FT-SA157958-FT-SPN03558_HHYFFCCX2/SE8002_SA157958_S4_L008_R1_001.fastq.gz\"\n",
    "# p_fastq2 = \"/home/laura/projects/COH_data/alignment_v2/raw/VDJ/SE8002/FT-SA157958-FT-SPN03558_HHYFFCCX2/SE8002_SA157958_S4_L008_R2_001.fastq.gz\""
   ]
  },
  {
   "cell_type": "code",
   "execution_count": 30,
   "id": "d36b67fe-0cc4-4d20-a5c2-30c2d89490cb",
   "metadata": {},
   "outputs": [],
   "source": [
    "splitcode = \"/home/laura/projects/splitcode/build/src/splitcode\"\n",
    "out_folder = \"/home/laura/projects/COH_data/alignment_v2/raw/VDJ_tracer\""
   ]
  },
  {
   "cell_type": "code",
   "execution_count": 32,
   "id": "e53d6575-30e1-4fb1-9b17-db301c11b872",
   "metadata": {},
   "outputs": [
    {
     "name": "stdout",
     "output_type": "stream",
     "text": [
      "* Using a list of 660 tags (vector size: 660; map size: 660; num elements in map: 660)\n",
      "* will process sample 1: /home/laura/projects/COH_data/alignment_v2/raw/VDJ/FT-SE6453/FT-SA71968-FT-SPN01104_HC75HCCX2/SE6453_SA71968_S2_L008_R1_001.fastq.gz\n",
      "                         /home/laura/projects/COH_data/alignment_v2/raw/VDJ/FT-SE6453/FT-SA71968-FT-SPN01104_HC75HCCX2/SE6453_SA71968_S2_L008_R2_001.fastq.gz\n",
      "30M reads processed         \n",
      "done \n",
      "* processed 30,992,796 reads\n"
     ]
    }
   ],
   "source": [
    "!cd $out_folder \\\n",
    "    && $splitcode \\\n",
    "        -t 30 \\\n",
    "        -c $config_txt \\\n",
    "        -k $keep_txt \\\n",
    "        -N 2 \\\n",
    "        --gzip \\\n",
    "        --no-output \\\n",
    "        $b_fastq1 \\\n",
    "        $b_fastq2"
   ]
  },
  {
   "cell_type": "markdown",
   "id": "a4eaa035-9387-4e95-aa79-f49a5d9b2cd6",
   "metadata": {},
   "source": [
    "### Run tracer assemble"
   ]
  },
  {
   "cell_type": "markdown",
   "id": "b7b19a65-ee36-4d85-94d0-96fe29c02c71",
   "metadata": {},
   "source": [
    "Questions:  \n",
    "- Tracer by default checks for alpha and beta loci but not gamma and delta loci -> should I check for those as well?"
   ]
  },
  {
   "cell_type": "code",
   "execution_count": null,
   "id": "b22f242a-c4c9-4237-853b-a13dd43e8e07",
   "metadata": {},
   "outputs": [],
   "source": [
    "tracer assemble \\\n",
    "    -p 30 \\\n",
    "    -c /home/laura/projects/tracer/tracer.conf \\\n",
    "    -s Hsap \\\n",
    "    -q kallisto \\\n",
    "    /home/laura/projects/COH_data/alignment_v2/raw/VDJ_tracer/AAACCTGGTCAATACC_0.fastq.gz \\\n",
    "    /home/laura/projects/COH_data/alignment_v2/raw/VDJ_tracer/AAACCTGGTCAATACC_1.fastq.gz \\\n",
    "    AAACCTGGTCAATACC \\\n",
    "    /home/laura/projects/COH_data/alignment_v2/raw/VDJ_tracer_results"
   ]
  }
 ],
 "metadata": {
  "kernelspec": {
   "display_name": "Python 3 (ipykernel)",
   "language": "python",
   "name": "python3"
  },
  "language_info": {
   "codemirror_mode": {
    "name": "ipython",
    "version": 3
   },
   "file_extension": ".py",
   "mimetype": "text/x-python",
   "name": "python",
   "nbconvert_exporter": "python",
   "pygments_lexer": "ipython3",
   "version": "3.9.12"
  }
 },
 "nbformat": 4,
 "nbformat_minor": 5
}
